{
 "cells": [
  {
   "cell_type": "markdown",
   "id": "196731b3",
   "metadata": {},
   "source": [
    "Final project for SAT 4650\n",
    "\n",
    "Machine Learning to Predict Future Stock Prices\n",
    "\n",
    "Matthew Jeffrey\n",
    "\n",
    "Spring 2023"
   ]
  },
  {
   "cell_type": "markdown",
   "id": "5f0373cf",
   "metadata": {},
   "source": [
    "LEGAL DISCLAIMER:\n",
    "This program is not intended to make accurate or correct predictions of future stock prices. Do not use this program to predict stock prices with the intent to actually buy or sell stocks. If you do so, you will be doing it at your own risk and will lose all your money."
   ]
  },
  {
   "cell_type": "code",
   "execution_count": null,
   "id": "5119bedf",
   "metadata": {},
   "outputs": [],
   "source": [
    "pip install xgboost"
   ]
  },
  {
   "cell_type": "code",
   "execution_count": null,
   "id": "e94351c0",
   "metadata": {},
   "outputs": [],
   "source": [
    "import time\n",
    "import pandas as pd\n",
    "import glob\n",
    "import numpy as np\n",
    "import xgboost as xgb"
   ]
  },
  {
   "cell_type": "code",
   "execution_count": null,
   "id": "1d03fc40",
   "metadata": {},
   "outputs": [],
   "source": [
    "#get user input for target stocks\n",
    "print(\"This program will help identify the best stocks to buy\\n\")\n",
    "print(\"Type 0 for NASDAQ, 1 for NYSE, 2 for Both, or type a specific ticker in the format of: AAPL\\nPress enter to confirm your choice\")\n",
    "stocks=input(\"\\nEnter your choice: \")"
   ]
  },
  {
   "cell_type": "code",
   "execution_count": null,
   "id": "f5585f68",
   "metadata": {},
   "outputs": [],
   "source": [
    "#get user input for target day\n",
    "print(\"How many days ahead would you like to predict?\\n\")\n",
    "days=input(\"Enter your choice: \")"
   ]
  },
  {
   "cell_type": "code",
   "execution_count": null,
   "id": "2b4b7d89",
   "metadata": {},
   "outputs": [],
   "source": [
    "#use user input to create training set\n",
    "if stocks=='0':\n",
    "    df=load_folder_data(r\"path\\to\\NASDQ data\\**\\*.txt\")\n",
    "elif stocks=='1':\n",
    "    df=load_folder_data(r\"path\\to\\NYSE data\\**\\*.txt\")\n",
    "elif stocks=='2':\n",
    "    df1=load_folder_data(r\"path\\to\\NASDQ data\\**\\*.txt\")\n",
    "    df2=load_folder_data(r\"path\\to\\NYSE data\\**\\*.txt\")\n",
    "    df=pd.concat([df1, df2], ignore_index=True)\n",
    "else:\n",
    "    filename=stocks + \".us.txt\"\n",
    "    filepath1=r\"path\\\\to\\\\NASDQ data\\\\**\\\\\" + filename\n",
    "    filepath2=r\"path\\\\to\\\\NYSE data\\\\**\\\\\" + filename\n",
    "    try:\n",
    "        file=glob.glob(filepath1, recursive=True)[0]\n",
    "        df=pd.read_csv(file, sep=',')\n",
    "    except IndexError:\n",
    "        try:\n",
    "            file=glob.glob(filepath2, recursive=True)[0]\n",
    "            df=pd.read_csv(file, sep=',')\n",
    "        except IndexError:\n",
    "            raise FileNotFoundError(f\"Ticker not found: {stocks}\")"
   ]
  },
  {
   "cell_type": "code",
   "execution_count": null,
   "id": "8fd484b2",
   "metadata": {},
   "outputs": [],
   "source": [
    "#make predictions\n",
    "predictions=predict_stock_price(df, days)\n",
    "#get top 10 preformers from predictions\n",
    "get_top_performers(predictions, 10)"
   ]
  },
  {
   "cell_type": "code",
   "execution_count": null,
   "id": "9e70cc67",
   "metadata": {},
   "outputs": [],
   "source": [
    "#used when you input a single stock to predict highest value over day range. \n",
    "when_to_sell(df, days)"
   ]
  },
  {
   "cell_type": "code",
   "execution_count": null,
   "id": "19d79de8",
   "metadata": {},
   "outputs": [],
   "source": [
    "def load_folder_data(path):\n",
    "    files=glob.glob(path, recursive=True)\n",
    "    dfs=[]\n",
    "    for file in files:\n",
    "        try:\n",
    "            df = pd.read_csv(file, sep=',')\n",
    "            dfs.append(df)\n",
    "        except pd.errors.EmptyDataError:\n",
    "            print(f\"No data found in file {file}\")\n",
    "    if not dfs:\n",
    "        return None\n",
    "    return pd.concat(dfs, ignore_index=True)"
   ]
  },
  {
   "cell_type": "code",
   "execution_count": null,
   "id": "33b95d25",
   "metadata": {},
   "outputs": [],
   "source": [
    "def predict_stock_price(df, days):\n",
    "    #format dataframe\n",
    "    df=df[1:]\n",
    "    df['datetime']=pd.to_datetime(df['<DATE>'].astype(str) + df['<TIME>'].astype(str), format='%Y%m%d%H%M%S')\n",
    "    #print(df['datetime'])\n",
    "    df.set_index(['<TICKER>', 'datetime'], inplace=True)\n",
    "    df.drop(['<DATE>', '<TIME>'], axis=1, inplace=True)\n",
    "\n",
    "    #create features\n",
    "    df['year'] = df.index.get_level_values('datetime').year\n",
    "    df['month'] = df.index.get_level_values('datetime').month\n",
    "    df['day'] = df.index.get_level_values('datetime').day\n",
    "    df['hour'] = df.index.get_level_values('datetime').hour\n",
    "\n",
    "    #create prediction target time\n",
    "    #print(df.head)\n",
    "    #print(df.index.levels[1][-1])\n",
    "    target=df.index.levels[1][-1]+pd.Timedelta(days=int(days))\n",
    "    t_year = str(target.year).encode('utf-8')\n",
    "    t_month = str(target.month).encode('utf-8')\n",
    "    t_day = str(target.day).encode('utf-8')\n",
    "    t_hour = str(target.hour).encode('utf-8')\n",
    "    \n",
    "    #group data by ticker and apply prediction function\n",
    "    results=[]\n",
    "    for ticker, group in df.groupby(level='<TICKER>'):\n",
    "        X=group[['year', 'month', 'day', 'hour']].values\n",
    "        y=group['<CLOSE>'].values\n",
    "        model=xgb.XGBRegressor()\n",
    "        model.fit(X, y)\n",
    "        pred = model.predict([[int(t_year), int(t_month), int(t_day), int(t_hour)]])\n",
    "        percent_increase=(pred[0] - group['<CLOSE>'][-1])/group['<CLOSE>'][-1] * 100\n",
    "        results.append((ticker, pred[0], percent_increase))\n",
    "    return results"
   ]
  },
  {
   "cell_type": "code",
   "execution_count": null,
   "id": "3def7e88",
   "metadata": {},
   "outputs": [],
   "source": [
    "def when_to_sell(df, days):\n",
    "    daily_prices=[]\n",
    "    for i in range(int(days)):\n",
    "        result=predict_stock_price(df, i)\n",
    "        ticker = result[0][0]\n",
    "        pred = result[0][1]\n",
    "        percent_increase = result[0][2]\n",
    "        daily_prices.append((ticker, pred, percent_increase, i))\n",
    "    results=sorted(daily_prices, key=lambda x: x[2], reverse=True)\n",
    "    return results"
   ]
  },
  {
   "cell_type": "code",
   "execution_count": null,
   "id": "fae0ba74",
   "metadata": {},
   "outputs": [],
   "source": [
    "def get_top_performers(results, num):\n",
    "    filtered_results=[d for d in results if '-' not in d[0] and '_' not in d[0]]\n",
    "    sorted_results=sorted(filtered_results, key=lambda x: x[2], reverse=True)\n",
    "    print(\"Ticker  \\tPercent Change(\"+days+\" days)\")\n",
    "    for i in range(num):\n",
    "        ticker, price, percent_change = sorted_results[i]\n",
    "        print(f\"{ticker}  \\t{percent_change:.2f}%\")\n",
    "    return sorted_results"
   ]
  },
  {
   "cell_type": "code",
   "execution_count": null,
   "id": "207a284f",
   "metadata": {},
   "outputs": [],
   "source": []
  }
 ],
 "metadata": {
  "kernelspec": {
   "display_name": "Python 3 (ipykernel)",
   "language": "python",
   "name": "python3"
  },
  "language_info": {
   "codemirror_mode": {
    "name": "ipython",
    "version": 3
   },
   "file_extension": ".py",
   "mimetype": "text/x-python",
   "name": "python",
   "nbconvert_exporter": "python",
   "pygments_lexer": "ipython3",
   "version": "3.9.13"
  }
 },
 "nbformat": 4,
 "nbformat_minor": 5
}
